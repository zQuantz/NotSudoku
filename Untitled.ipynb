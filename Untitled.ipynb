{
 "cells": [
  {
   "cell_type": "code",
   "execution_count": 3,
   "metadata": {},
   "outputs": [],
   "source": [
    "import sys, os\n",
    "sys.path.append('heuristics.py')\n",
    "import heuristics as h\n",
    "import numpy as np"
   ]
  },
  {
   "cell_type": "code",
   "execution_count": 5,
   "metadata": {},
   "outputs": [],
   "source": [
    "states = np.load('Data/states.npy')"
   ]
  },
  {
   "cell_type": "code",
   "execution_count": 7,
   "metadata": {},
   "outputs": [
    {
     "data": {
      "text/plain": [
       "array([[ 1,  5,  2,  4],\n",
       "       [ 9,  6,  3,  8],\n",
       "       [ 0, 10, 11,  7]])"
      ]
     },
     "execution_count": 7,
     "metadata": {},
     "output_type": "execute_result"
    }
   ],
   "source": []
  },
  {
   "cell_type": "code",
   "execution_count": 21,
   "metadata": {},
   "outputs": [
    {
     "name": "stdout",
     "output_type": "stream",
     "text": [
      "Current State\n",
      "[[ 1  5  2  4]\n",
      " [ 9  6  3  8]\n",
      " [ 0 10 11  7]]\n",
      "Column Sum: [10 21 16 19]\n",
      "Row Sum: [12 26 28]\n"
     ]
    }
   ],
   "source": [
    "print('Current State')\n",
    "print(states[0].reshape(3, 4))\n",
    "print('Column Sum:', states[0].reshape(3, 4).sum(axis=0))\n",
    "print('Row Sum:', states[0].reshape(3, 4).sum(axis=1))"
   ]
  },
  {
   "cell_type": "code",
   "execution_count": 20,
   "metadata": {},
   "outputs": [
    {
     "name": "stdout",
     "output_type": "stream",
     "text": [
      "Goal State\n",
      "[[ 1  2  3  4]\n",
      " [ 5  6  7  8]\n",
      " [ 9 10 11  0]]\n",
      "Column Sum: [15 18 21 12]\n",
      "Row Sum: [10 26 30]\n"
     ]
    }
   ],
   "source": [
    "print('Goal State')\n",
    "print(np.append(np.arange(1, 12), 0).reshape(3, 4))\n",
    "print('Column Sum:', np.append(np.arange(1, 12), 0).reshape(3, 4).sum(axis=0))\n",
    "print('Row Sum:', np.append(np.arange(1, 12), 0).reshape(3, 4).sum(axis=1))"
   ]
  },
  {
   "cell_type": "code",
   "execution_count": 22,
   "metadata": {},
   "outputs": [
    {
     "name": "stdout",
     "output_type": "stream",
     "text": [
      "RMSE:  10.770329614269007\n"
     ]
    }
   ],
   "source": [
    "print('RMSE: ', h.h4(states[0]))"
   ]
  },
  {
   "cell_type": "code",
   "execution_count": null,
   "metadata": {},
   "outputs": [],
   "source": []
  }
 ],
 "metadata": {
  "kernelspec": {
   "display_name": "Python 3",
   "language": "python",
   "name": "python3"
  },
  "language_info": {
   "codemirror_mode": {
    "name": "ipython",
    "version": 3
   },
   "file_extension": ".py",
   "mimetype": "text/x-python",
   "name": "python",
   "nbconvert_exporter": "python",
   "pygments_lexer": "ipython3",
   "version": "3.6.4"
  }
 },
 "nbformat": 4,
 "nbformat_minor": 2
}
